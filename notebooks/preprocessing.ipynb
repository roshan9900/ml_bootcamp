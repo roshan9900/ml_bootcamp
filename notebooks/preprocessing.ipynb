{
 "cells": [
  {
   "cell_type": "code",
   "execution_count": 1,
   "metadata": {},
   "outputs": [],
   "source": [
    "import pandas as pd"
   ]
  },
  {
   "cell_type": "code",
   "execution_count": 2,
   "metadata": {},
   "outputs": [],
   "source": [
    "df = pd.read_csv(r'C:\\Users\\hp\\Downloads\\mlbootcamp\\data\\cleaned_data\\cleaned.csv')"
   ]
  },
  {
   "cell_type": "code",
   "execution_count": 3,
   "metadata": {},
   "outputs": [
    {
     "data": {
      "text/html": [
       "<div>\n",
       "<style scoped>\n",
       "    .dataframe tbody tr th:only-of-type {\n",
       "        vertical-align: middle;\n",
       "    }\n",
       "\n",
       "    .dataframe tbody tr th {\n",
       "        vertical-align: top;\n",
       "    }\n",
       "\n",
       "    .dataframe thead th {\n",
       "        text-align: right;\n",
       "    }\n",
       "</style>\n",
       "<table border=\"1\" class=\"dataframe\">\n",
       "  <thead>\n",
       "    <tr style=\"text-align: right;\">\n",
       "      <th></th>\n",
       "      <th>Product</th>\n",
       "      <th>Price</th>\n",
       "      <th>Actual Price</th>\n",
       "      <th>Rating</th>\n",
       "      <th>Reviews</th>\n",
       "      <th>RAM (GB)</th>\n",
       "      <th>ROM (GB)</th>\n",
       "      <th>Company</th>\n",
       "    </tr>\n",
       "  </thead>\n",
       "  <tbody>\n",
       "    <tr>\n",
       "      <th>0</th>\n",
       "      <td>vivo T3 Pro 5G (Sandstone Orange, 256 GB)</td>\n",
       "      <td>24999</td>\n",
       "      <td>31999.0</td>\n",
       "      <td>4.5480</td>\n",
       "      <td>3371.0</td>\n",
       "      <td>8.0</td>\n",
       "      <td>256.0</td>\n",
       "      <td>vivo</td>\n",
       "    </tr>\n",
       "    <tr>\n",
       "      <th>1</th>\n",
       "      <td>vivo V50 5G (Rose Red, 256 GB)</td>\n",
       "      <td>36999</td>\n",
       "      <td>42999.0</td>\n",
       "      <td>4.6536</td>\n",
       "      <td>75.0</td>\n",
       "      <td>8.0</td>\n",
       "      <td>256.0</td>\n",
       "      <td>vivo</td>\n",
       "    </tr>\n",
       "    <tr>\n",
       "      <th>2</th>\n",
       "      <td>Motorola Edge 50 Fusion (Marshmallow Blue, 128...</td>\n",
       "      <td>20999</td>\n",
       "      <td>25999.0</td>\n",
       "      <td>4.5100</td>\n",
       "      <td>6672.0</td>\n",
       "      <td>8.0</td>\n",
       "      <td>128.0</td>\n",
       "      <td>Motorola</td>\n",
       "    </tr>\n",
       "    <tr>\n",
       "      <th>3</th>\n",
       "      <td>POCO C61 (Mystical Green, 64 GB)</td>\n",
       "      <td>5899</td>\n",
       "      <td>8999.0</td>\n",
       "      <td>4.2810</td>\n",
       "      <td>3415.0</td>\n",
       "      <td>4.0</td>\n",
       "      <td>64.0</td>\n",
       "      <td>POCO</td>\n",
       "    </tr>\n",
       "    <tr>\n",
       "      <th>4</th>\n",
       "      <td>POCO C75 5G (Aqua Bliss, 64 GB)</td>\n",
       "      <td>7999</td>\n",
       "      <td>10999.0</td>\n",
       "      <td>4.3180</td>\n",
       "      <td>1088.0</td>\n",
       "      <td>4.0</td>\n",
       "      <td>64.0</td>\n",
       "      <td>POCO</td>\n",
       "    </tr>\n",
       "  </tbody>\n",
       "</table>\n",
       "</div>"
      ],
      "text/plain": [
       "                                             Product  Price  Actual Price  \\\n",
       "0          vivo T3 Pro 5G (Sandstone Orange, 256 GB)  24999       31999.0   \n",
       "1                     vivo V50 5G (Rose Red, 256 GB)  36999       42999.0   \n",
       "2  Motorola Edge 50 Fusion (Marshmallow Blue, 128...  20999       25999.0   \n",
       "3                   POCO C61 (Mystical Green, 64 GB)   5899        8999.0   \n",
       "4                    POCO C75 5G (Aqua Bliss, 64 GB)   7999       10999.0   \n",
       "\n",
       "   Rating  Reviews  RAM (GB)  ROM (GB)   Company  \n",
       "0  4.5480   3371.0       8.0     256.0      vivo  \n",
       "1  4.6536     75.0       8.0     256.0      vivo  \n",
       "2  4.5100   6672.0       8.0     128.0  Motorola  \n",
       "3  4.2810   3415.0       4.0      64.0      POCO  \n",
       "4  4.3180   1088.0       4.0      64.0      POCO  "
      ]
     },
     "execution_count": 3,
     "metadata": {},
     "output_type": "execute_result"
    }
   ],
   "source": [
    "df.head()"
   ]
  },
  {
   "cell_type": "code",
   "execution_count": 6,
   "metadata": {},
   "outputs": [],
   "source": [
    "from sklearn.preprocessing import LabelEncoder, StandardScaler\n",
    "import joblib\n",
    "from sklearn.model_selection import train_test_split"
   ]
  },
  {
   "cell_type": "code",
   "execution_count": 7,
   "metadata": {},
   "outputs": [],
   "source": [
    "label_encoder = LabelEncoder()\n",
    "df[\"Company\"] = label_encoder.fit_transform(df[\"Company\"])\n",
    "df[\"Product\"] = label_encoder.fit_transform(df[\"Product\"])\n",
    "\n",
    "\n",
    "\n",
    "X = df.drop(columns=[\"Price\", \"Product\"])\n",
    "y = df[\"Price\"]\n",
    "\n",
    "scaler = StandardScaler()\n",
    "X[[\"Actual Price\", \"Rating\", \"Reviews\", \"RAM (GB)\", \"ROM (GB)\"]] = scaler.fit_transform(\n",
    "    X[[\"Actual Price\", \"Rating\", \"Reviews\", \"RAM (GB)\", \"ROM (GB)\"]]\n",
    ")\n",
    "\n",
    "X_train, X_test, y_train, y_test = train_test_split(X, y, test_size=0.2, random_state=42)\n",
    "\n",
    "X_train.to_csv(r\"C:\\Users\\hp\\Downloads\\mlbootcamp\\data\\preprocess_data\\X_train.csv\", index=False)\n",
    "X_test.to_csv(r\"C:\\Users\\hp\\Downloads\\mlbootcamp\\data\\preprocess_data\\X_test.csv\", index=False)\n",
    "y_train.to_csv(r\"C:\\Users\\hp\\Downloads\\mlbootcamp\\data\\preprocess_data\\y_train.csv\", index=False)\n",
    "y_test.to_csv(r\"C:\\Users\\hp\\Downloads\\mlbootcamp\\data\\preprocess_data\\y_test.csv\", index=False)"
   ]
  },
  {
   "cell_type": "code",
   "execution_count": null,
   "metadata": {},
   "outputs": [],
   "source": []
  },
  {
   "cell_type": "code",
   "execution_count": 3,
   "metadata": {},
   "outputs": [],
   "source": [
    "import os"
   ]
  },
  {
   "cell_type": "code",
   "execution_count": null,
   "metadata": {},
   "outputs": [],
   "source": [
    "os.makedirs(r'C:\\Users\\hp\\Downloads\\mlbootcamp\\data\\preprocess_data',exist_ok=True)"
   ]
  },
  {
   "cell_type": "code",
   "execution_count": 5,
   "metadata": {},
   "outputs": [],
   "source": [
    "df.to_csv(r'C:\\Users\\hp\\Downloads\\mlbootcamp\\data\\preprocess_data\\preprocessed.csv',index=False)"
   ]
  },
  {
   "cell_type": "code",
   "execution_count": null,
   "metadata": {},
   "outputs": [],
   "source": []
  }
 ],
 "metadata": {
  "kernelspec": {
   "display_name": "venv",
   "language": "python",
   "name": "python3"
  },
  "language_info": {
   "codemirror_mode": {
    "name": "ipython",
    "version": 3
   },
   "file_extension": ".py",
   "mimetype": "text/x-python",
   "name": "python",
   "nbconvert_exporter": "python",
   "pygments_lexer": "ipython3",
   "version": "3.12.7"
  }
 },
 "nbformat": 4,
 "nbformat_minor": 2
}
