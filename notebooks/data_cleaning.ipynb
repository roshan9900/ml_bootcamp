{
 "cells": [
  {
   "cell_type": "code",
   "execution_count": 2,
   "metadata": {},
   "outputs": [],
   "source": [
    "import pandas as pd"
   ]
  },
  {
   "cell_type": "code",
   "execution_count": 3,
   "metadata": {},
   "outputs": [],
   "source": [
    "df = pd.read_csv(r\"C:\\Users\\hp\\Downloads\\mlbootcamp\\data\\raw_data\\flipkart_motorola_products.csv\")"
   ]
  },
  {
   "cell_type": "code",
   "execution_count": 4,
   "metadata": {},
   "outputs": [
    {
     "data": {
      "text/html": [
       "<div>\n",
       "<style scoped>\n",
       "    .dataframe tbody tr th:only-of-type {\n",
       "        vertical-align: middle;\n",
       "    }\n",
       "\n",
       "    .dataframe tbody tr th {\n",
       "        vertical-align: top;\n",
       "    }\n",
       "\n",
       "    .dataframe thead th {\n",
       "        text-align: right;\n",
       "    }\n",
       "</style>\n",
       "<table border=\"1\" class=\"dataframe\">\n",
       "  <thead>\n",
       "    <tr style=\"text-align: right;\">\n",
       "      <th></th>\n",
       "      <th>Product</th>\n",
       "      <th>Price</th>\n",
       "      <th>Actual Price</th>\n",
       "      <th>Rating</th>\n",
       "      <th>Storage</th>\n",
       "    </tr>\n",
       "  </thead>\n",
       "  <tbody>\n",
       "    <tr>\n",
       "      <th>0</th>\n",
       "      <td>vivo T3 Pro 5G (Sandstone Orange, 256 GB)</td>\n",
       "      <td>₹24,999</td>\n",
       "      <td>₹31,999</td>\n",
       "      <td>4.548,999 Ratings &amp; 3,371 Reviews</td>\n",
       "      <td>8 GB RAM | 256 GB ROM17.2 cm (6.77 inch) Full ...</td>\n",
       "    </tr>\n",
       "    <tr>\n",
       "      <th>1</th>\n",
       "      <td>vivo V50 5G (Rose Red, 256 GB)</td>\n",
       "      <td>₹36,999</td>\n",
       "      <td>₹42,999</td>\n",
       "      <td>4.6536 Ratings &amp; 75 Reviews</td>\n",
       "      <td>8 GB RAM | 256 GB ROM17.2 cm (6.77 inch) Displ...</td>\n",
       "    </tr>\n",
       "    <tr>\n",
       "      <th>2</th>\n",
       "      <td>Motorola Edge 50 Fusion (Marshmallow Blue, 128...</td>\n",
       "      <td>₹20,999</td>\n",
       "      <td>₹25,999</td>\n",
       "      <td>4.51,01,345 Ratings &amp; 6,672 Reviews</td>\n",
       "      <td>8 GB RAM | 128 GB ROM17.02 cm (6.7 inch) Full ...</td>\n",
       "    </tr>\n",
       "    <tr>\n",
       "      <th>3</th>\n",
       "      <td>POCO C61 (Mystical Green, 64 GB)</td>\n",
       "      <td>₹5,899</td>\n",
       "      <td>₹8,999</td>\n",
       "      <td>4.281,557 Ratings &amp; 3,415 Reviews</td>\n",
       "      <td>4 GB RAM | 64 GB ROM | Expandable Upto 1 TB17....</td>\n",
       "    </tr>\n",
       "    <tr>\n",
       "      <th>4</th>\n",
       "      <td>POCO C75 5G (Aqua Bliss, 64 GB)</td>\n",
       "      <td>₹7,999</td>\n",
       "      <td>₹10,999</td>\n",
       "      <td>4.318,553 Ratings &amp; 1,088 Reviews</td>\n",
       "      <td>4 GB RAM | 64 GB ROM | Expandable Upto 1 TB17....</td>\n",
       "    </tr>\n",
       "  </tbody>\n",
       "</table>\n",
       "</div>"
      ],
      "text/plain": [
       "                                             Product    Price Actual Price  \\\n",
       "0          vivo T3 Pro 5G (Sandstone Orange, 256 GB)  ₹24,999      ₹31,999   \n",
       "1                     vivo V50 5G (Rose Red, 256 GB)  ₹36,999      ₹42,999   \n",
       "2  Motorola Edge 50 Fusion (Marshmallow Blue, 128...  ₹20,999      ₹25,999   \n",
       "3                   POCO C61 (Mystical Green, 64 GB)   ₹5,899       ₹8,999   \n",
       "4                    POCO C75 5G (Aqua Bliss, 64 GB)   ₹7,999      ₹10,999   \n",
       "\n",
       "                                Rating  \\\n",
       "0    4.548,999 Ratings & 3,371 Reviews   \n",
       "1          4.6536 Ratings & 75 Reviews   \n",
       "2  4.51,01,345 Ratings & 6,672 Reviews   \n",
       "3    4.281,557 Ratings & 3,415 Reviews   \n",
       "4    4.318,553 Ratings & 1,088 Reviews   \n",
       "\n",
       "                                             Storage  \n",
       "0  8 GB RAM | 256 GB ROM17.2 cm (6.77 inch) Full ...  \n",
       "1  8 GB RAM | 256 GB ROM17.2 cm (6.77 inch) Displ...  \n",
       "2  8 GB RAM | 128 GB ROM17.02 cm (6.7 inch) Full ...  \n",
       "3  4 GB RAM | 64 GB ROM | Expandable Upto 1 TB17....  \n",
       "4  4 GB RAM | 64 GB ROM | Expandable Upto 1 TB17....  "
      ]
     },
     "execution_count": 4,
     "metadata": {},
     "output_type": "execute_result"
    }
   ],
   "source": [
    "df.head()"
   ]
  },
  {
   "cell_type": "code",
   "execution_count": 10,
   "metadata": {},
   "outputs": [],
   "source": [
    "import os"
   ]
  },
  {
   "cell_type": "code",
   "execution_count": 5,
   "metadata": {},
   "outputs": [
    {
     "name": "stderr",
     "output_type": "stream",
     "text": [
      "C:\\Users\\hp\\AppData\\Local\\Temp\\ipykernel_10692\\3341726652.py:15: FutureWarning: A value is trying to be set on a copy of a DataFrame or Series through chained assignment using an inplace method.\n",
      "The behavior will change in pandas 3.0. This inplace method will never work because the intermediate object on which we are setting values always behaves as a copy.\n",
      "\n",
      "For example, when doing 'df[col].method(value, inplace=True)', try using 'df.method({col: value}, inplace=True)' or df[col] = df[col].method(value) instead, to perform the operation inplace on the original object.\n",
      "\n",
      "\n",
      "  df[\"Actual Price\"].fillna(df[\"Actual Price\"].median(), inplace=True)\n"
     ]
    }
   ],
   "source": [
    "import pandas as pd\n",
    "import re\n",
    "\n",
    "\n",
    "df.drop_duplicates(inplace=True)\n",
    "\n",
    "def clean_price(price):\n",
    "    if pd.isna(price):\n",
    "        return None \n",
    "    return int(re.sub(r'[^0-9]', '', str(price)))\n",
    "\n",
    "df[\"Price\"] = df[\"Price\"].apply(clean_price)\n",
    "df[\"Actual Price\"] = df[\"Actual Price\"].apply(clean_price)\n",
    "\n",
    "df[\"Actual Price\"].fillna(df[\"Actual Price\"].median(), inplace=True)\n",
    "\n",
    "def extract_rating_reviews(rating_str):\n",
    "    rating_match = re.search(r'(\\d+\\.\\d+)', str(rating_str))\n",
    "    review_match = re.search(r'([\\d,]+) Reviews', str(rating_str))\n",
    "    rating = float(rating_match.group(1)) if rating_match else None\n",
    "    reviews = int(review_match.group(1).replace(',', '')) if review_match else None\n",
    "    return rating, reviews\n",
    "\n",
    "df[[\"Rating\", \"Reviews\"]] = df[\"Rating\"].apply(lambda x: pd.Series(extract_rating_reviews(x)))\n",
    "\n",
    "def extract_storage(storage_str, storage_type):\n",
    "    match = re.search(rf'(\\d+) GB {storage_type}', str(storage_str))\n",
    "    return int(match.group(1)) if match else None\n",
    "\n",
    "df[\"RAM (GB)\"] = df[\"Storage\"].apply(lambda x: extract_storage(x, \"RAM\"))\n",
    "df[\"ROM (GB)\"] = df[\"Storage\"].apply(lambda x: extract_storage(x, \"ROM\"))\n",
    "\n",
    "df.drop(columns=[\"Storage\"], inplace=True)\n",
    "\n",
    "df[\"Company\"] = df[\"Product\"].apply(lambda x: str(x).split()[0])\n",
    "\n",
    "\n"
   ]
  },
  {
   "cell_type": "code",
   "execution_count": 6,
   "metadata": {},
   "outputs": [],
   "source": [
    "df.dropna(inplace=True)"
   ]
  },
  {
   "cell_type": "code",
   "execution_count": 7,
   "metadata": {},
   "outputs": [
    {
     "data": {
      "text/html": [
       "<div>\n",
       "<style scoped>\n",
       "    .dataframe tbody tr th:only-of-type {\n",
       "        vertical-align: middle;\n",
       "    }\n",
       "\n",
       "    .dataframe tbody tr th {\n",
       "        vertical-align: top;\n",
       "    }\n",
       "\n",
       "    .dataframe thead th {\n",
       "        text-align: right;\n",
       "    }\n",
       "</style>\n",
       "<table border=\"1\" class=\"dataframe\">\n",
       "  <thead>\n",
       "    <tr style=\"text-align: right;\">\n",
       "      <th></th>\n",
       "      <th>Product</th>\n",
       "      <th>Price</th>\n",
       "      <th>Actual Price</th>\n",
       "      <th>Rating</th>\n",
       "      <th>Reviews</th>\n",
       "      <th>RAM (GB)</th>\n",
       "      <th>ROM (GB)</th>\n",
       "      <th>Company</th>\n",
       "    </tr>\n",
       "  </thead>\n",
       "  <tbody>\n",
       "    <tr>\n",
       "      <th>0</th>\n",
       "      <td>vivo T3 Pro 5G (Sandstone Orange, 256 GB)</td>\n",
       "      <td>24999</td>\n",
       "      <td>31999.0</td>\n",
       "      <td>4.5480</td>\n",
       "      <td>3371.0</td>\n",
       "      <td>8.0</td>\n",
       "      <td>256.0</td>\n",
       "      <td>vivo</td>\n",
       "    </tr>\n",
       "    <tr>\n",
       "      <th>1</th>\n",
       "      <td>vivo V50 5G (Rose Red, 256 GB)</td>\n",
       "      <td>36999</td>\n",
       "      <td>42999.0</td>\n",
       "      <td>4.6536</td>\n",
       "      <td>75.0</td>\n",
       "      <td>8.0</td>\n",
       "      <td>256.0</td>\n",
       "      <td>vivo</td>\n",
       "    </tr>\n",
       "    <tr>\n",
       "      <th>2</th>\n",
       "      <td>Motorola Edge 50 Fusion (Marshmallow Blue, 128...</td>\n",
       "      <td>20999</td>\n",
       "      <td>25999.0</td>\n",
       "      <td>4.5100</td>\n",
       "      <td>6672.0</td>\n",
       "      <td>8.0</td>\n",
       "      <td>128.0</td>\n",
       "      <td>Motorola</td>\n",
       "    </tr>\n",
       "    <tr>\n",
       "      <th>3</th>\n",
       "      <td>POCO C61 (Mystical Green, 64 GB)</td>\n",
       "      <td>5899</td>\n",
       "      <td>8999.0</td>\n",
       "      <td>4.2810</td>\n",
       "      <td>3415.0</td>\n",
       "      <td>4.0</td>\n",
       "      <td>64.0</td>\n",
       "      <td>POCO</td>\n",
       "    </tr>\n",
       "    <tr>\n",
       "      <th>4</th>\n",
       "      <td>POCO C75 5G (Aqua Bliss, 64 GB)</td>\n",
       "      <td>7999</td>\n",
       "      <td>10999.0</td>\n",
       "      <td>4.3180</td>\n",
       "      <td>1088.0</td>\n",
       "      <td>4.0</td>\n",
       "      <td>64.0</td>\n",
       "      <td>POCO</td>\n",
       "    </tr>\n",
       "  </tbody>\n",
       "</table>\n",
       "</div>"
      ],
      "text/plain": [
       "                                             Product  Price  Actual Price  \\\n",
       "0          vivo T3 Pro 5G (Sandstone Orange, 256 GB)  24999       31999.0   \n",
       "1                     vivo V50 5G (Rose Red, 256 GB)  36999       42999.0   \n",
       "2  Motorola Edge 50 Fusion (Marshmallow Blue, 128...  20999       25999.0   \n",
       "3                   POCO C61 (Mystical Green, 64 GB)   5899        8999.0   \n",
       "4                    POCO C75 5G (Aqua Bliss, 64 GB)   7999       10999.0   \n",
       "\n",
       "   Rating  Reviews  RAM (GB)  ROM (GB)   Company  \n",
       "0  4.5480   3371.0       8.0     256.0      vivo  \n",
       "1  4.6536     75.0       8.0     256.0      vivo  \n",
       "2  4.5100   6672.0       8.0     128.0  Motorola  \n",
       "3  4.2810   3415.0       4.0      64.0      POCO  \n",
       "4  4.3180   1088.0       4.0      64.0      POCO  "
      ]
     },
     "execution_count": 7,
     "metadata": {},
     "output_type": "execute_result"
    }
   ],
   "source": [
    "df.head()"
   ]
  },
  {
   "cell_type": "code",
   "execution_count": 8,
   "metadata": {},
   "outputs": [
    {
     "data": {
      "text/plain": [
       "Product         0\n",
       "Price           0\n",
       "Actual Price    0\n",
       "Rating          0\n",
       "Reviews         0\n",
       "RAM (GB)        0\n",
       "ROM (GB)        0\n",
       "Company         0\n",
       "dtype: int64"
      ]
     },
     "execution_count": 8,
     "metadata": {},
     "output_type": "execute_result"
    }
   ],
   "source": [
    "df.isnull().sum()"
   ]
  },
  {
   "cell_type": "code",
   "execution_count": 11,
   "metadata": {},
   "outputs": [],
   "source": [
    "os.makedirs(r'C:\\Users\\hp\\Downloads\\mlbootcamp\\data\\cleaned_data',exist_ok=True)"
   ]
  },
  {
   "cell_type": "code",
   "execution_count": 12,
   "metadata": {},
   "outputs": [],
   "source": [
    "df.to_csv(r'C:\\Users\\hp\\Downloads\\mlbootcamp\\data\\cleaned_data\\cleaned.csv',index=False)"
   ]
  },
  {
   "cell_type": "code",
   "execution_count": null,
   "metadata": {},
   "outputs": [],
   "source": []
  }
 ],
 "metadata": {
  "kernelspec": {
   "display_name": "venv",
   "language": "python",
   "name": "python3"
  },
  "language_info": {
   "codemirror_mode": {
    "name": "ipython",
    "version": 3
   },
   "file_extension": ".py",
   "mimetype": "text/x-python",
   "name": "python",
   "nbconvert_exporter": "python",
   "pygments_lexer": "ipython3",
   "version": "3.12.7"
  }
 },
 "nbformat": 4,
 "nbformat_minor": 2
}
